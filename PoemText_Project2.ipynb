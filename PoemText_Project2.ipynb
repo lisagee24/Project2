{
 "cells": [
  {
   "cell_type": "code",
   "execution_count": 1,
   "metadata": {},
   "outputs": [],
   "source": [
    "from bs4 import BeautifulSoup as bs\n",
    "import pandas as pd\n",
    "import os\n",
    "import requests\n",
    "import re\n",
    "import numpy as np\n",
    "import nltk\n",
    "import urllib.request"
   ]
  },
  {
   "cell_type": "code",
   "execution_count": 2,
   "metadata": {},
   "outputs": [],
   "source": [
    "# URL of page to be scraped\n",
    "url = 'https://www.famouspoetsandpoems.com'   \n"
   ]
  },
  {
   "cell_type": "code",
   "execution_count": 3,
   "metadata": {},
   "outputs": [],
   "source": [
    "# Retrieve page with the requests module\n",
    "import time\n",
    "\n",
    "# page = ''\n",
    "# while page == '':\n",
    "#    try:\n",
    "#        page = requests.get(url)\n",
    "#        break\n",
    "#    except:\n",
    "#        print(\"Connection refused by the server..\")\n",
    "#        print(\"Let me sleep for 5 seconds\")\n",
    "#        print(\"ZZzzzz...\")\n",
    "#        time.sleep(5)\n",
    "#        print(\"Was a nice sleep, now let me continue...\")\n",
    "#        continue\n",
    "# response = requests.get(url)"
   ]
  },
  {
   "cell_type": "code",
   "execution_count": 18,
   "metadata": {},
   "outputs": [],
   "source": [
    "# Retrieve BeautifulSoup Object for Phenomenal Woman lyrics\n",
    "header = {\"user-agent\" : \"Mozilla/5.0 (Windows NT 10.0; Win64; x64) AppleWebKit/537.36 (KHTML, like Gecko) Chrome/74.0.3729.131 Safari/537.36\"}\n",
    "url = \"http://www.famouspoetsandpoems.com/poets/maya_angelou/poems/492\"\n",
    "#url = \"http://www.famouspoetsandpoems.com/poets/maya_angelou/poems/492\"\n",
    "response = requests.get(url, headers=header)\n",
    "soup = bs(response.text, 'html')"
   ]
  },
  {
   "cell_type": "code",
   "execution_count": 10,
   "metadata": {},
   "outputs": [],
   "source": []
  },
  {
   "cell_type": "code",
   "execution_count": 11,
   "metadata": {},
   "outputs": [
    {
     "name": "stdout",
     "output_type": "stream",
     "text": [
      "[<title>Phenomenal Woman - Poem by Maya Angelou</title>]\n"
     ]
    }
   ],
   "source": [
    "# #getting features.\n",
    "title = soup.find_all('title')\n",
    "print(title)"
   ]
  },
  {
   "cell_type": "code",
   "execution_count": 12,
   "metadata": {},
   "outputs": [
    {
     "name": "stdout",
     "output_type": "stream",
     "text": [
      "Phenomenal Woman - Poem by Maya Angelou\n"
     ]
    }
   ],
   "source": [
    "# Extract title text\n",
    "title = soup.title.text\n",
    "print(title)"
   ]
  },
  {
   "cell_type": "code",
   "execution_count": 14,
   "metadata": {},
   "outputs": [
    {
     "name": "stdout",
     "output_type": "stream",
     "text": [
      "Phenomenal Woman \n",
      "Maya Angelou\n"
     ]
    }
   ],
   "source": [
    "maintitle = title.split('-')\n",
    "Poem1 = maintitle[0]\n",
    "print(Poem1)\n",
    "Poet1 = maintitle[1][9:]\n",
    "print(Poet1)"
   ]
  },
  {
   "cell_type": "code",
   "execution_count": 16,
   "metadata": {},
   "outputs": [
    {
     "name": "stdout",
     "output_type": "stream",
     "text": [
      "[\"\\n\\t\\t\\t\\t\\t\\tPretty women wonder where my secret lies.I'm not cute or built to suit a fashion model's sizeBut when I start to tell them,They think I'm telling lies.I say,It's in the reach of my armsThe span of my hips,The stride of my step,The curl of my lips.I'm a womanPhenomenally.Phenomenal woman,That's me.I walk into a roomJust as cool as you please,And to a man,The fellows stand orFall down on their knees.Then they swarm around me,A hive of honey bees.I say,It's the fire in my eyes,And the flash of my teeth,The swing in my waist,And the joy in my feet.I'm a womanPhenomenally.Phenomenal woman,That's me.Men themselves have wonderedWhat they see in me.They try so muchBut they can't touchMy inner mystery.When I try to show themThey say they still can't see.I say,It's in the arch of my back,The sun of my smile,The ride of my breasts,The grace of my style.I'm a womanPhenomenally.Phenomenal woman,That's me.Now you understandJust why my head's not bowed.I don't shout or jump aboutOr have to talk real loud.When you see me passingIt ought to make you proud.I say,It's in the click of my heels,The bend of my hair,the palm of my hand,The need of my care,'Cause I'm a womanPhenomenally.Phenomenal woman,That's me.\\t\\t\\t\\t\\t\\t\"]\n",
      "<div style=\"padding-left:14px;padding-top:20px;font-family:Arial;font-size:13px;\">\n",
      "\t\t\t\t\t\tPretty women wonder where my secret lies.<br/>I'm not cute or built to suit a fashion model's size<br/>But when I start to tell them,<br/>They think I'm telling lies.<br/>I say,<br/>It's in the reach of my arms<br/>The span of my hips,<br/>The stride of my step,<br/>The curl of my lips.<br/>I'm a woman<br/>Phenomenally.<br/>Phenomenal woman,<br/>That's me.<br/><br/>I walk into a room<br/>Just as cool as you please,<br/>And to a man,<br/>The fellows stand or<br/>Fall down on their knees.<br/>Then they swarm around me,<br/>A hive of honey bees.<br/>I say,<br/>It's the fire in my eyes,<br/>And the flash of my teeth,<br/>The swing in my waist,<br/>And the joy in my feet.<br/>I'm a woman<br/>Phenomenally.<br/>Phenomenal woman,<br/>That's me.<br/><br/>Men themselves have wondered<br/>What they see in me.<br/>They try so much<br/>But they can't touch<br/>My inner mystery.<br/>When I try to show them<br/>They say they still can't see.<br/>I say,<br/>It's in the arch of my back,<br/>The sun of my smile,<br/>The ride of my breasts,<br/>The grace of my style.<br/>I'm a woman<br/><br/>Phenomenally.<br/>Phenomenal woman,<br/>That's me.<br/><br/>Now you understand<br/>Just why my head's not bowed.<br/>I don't shout or jump about<br/>Or have to talk real loud.<br/>When you see me passing<br/>It ought to make you proud.<br/>I say,<br/>It's in the click of my heels,<br/>The bend of my hair,<br/>the palm of my hand,<br/>The need of my care,<br/>'Cause I'm a woman<br/>Phenomenally.<br/>Phenomenal woman,<br/>That's me.\t\t\t\t\t\t</div>\n"
     ]
    }
   ],
   "source": [
    "\n",
    "data = soup.find_all('div')\n",
    "print(data[6].text.split('<br/'))\n",
    "print(data[6])\n",
    "#data[0].text\n",
    "#data[6].replace('<br/>', '')\n",
    "#titles2.replace('<br/>', '')\n",
    "#[5]\n",
    "#titles2 = data[]\n",
    "#print(titles2)\n",
    "#print(data[6])\n",
    "##newData = data[6].div.split('<br/>')\n",
    "#.replace('\\n')\n",
    "#testData = newData[0]\n",
    "#type(newData)\n",
    "#print\n",
    "##newData\n",
    "#strip('<br/>')\n",
    "#print(newData[2])\n",
    "#test = data[6].text\n",
    "#.find('<br/>').replaceWith(' ')\n",
    "#print(test)"
   ]
  },
  {
   "cell_type": "code",
   "execution_count": 17,
   "metadata": {},
   "outputs": [
    {
     "name": "stdout",
     "output_type": "stream",
     "text": [
      "\n",
      "\t\t\t\t\t\tPretty women wonder where my secret lies.I'm not cute or built to suit a fashion model's sizeBut when I start to tell them,They think I'm telling lies.I say,It's in the reach of my armsThe span of my hips,The stride of my step,The curl of my lips.I'm a womanPhenomenally.Phenomenal woman,That's me.I walk into a roomJust as cool as you please,And to a man,The fellows stand orFall down on their knees.Then they swarm around me,A hive of honey bees.I say,It's the fire in my eyes,And the flash of my teeth,The swing in my waist,And the joy in my feet.I'm a womanPhenomenally.Phenomenal woman,That's me.Men themselves have wonderedWhat they see in me.They try so muchBut they can't touchMy inner mystery.When I try to show themThey say they still can't see.I say,It's in the arch of my back,The sun of my smile,The ride of my breasts,The grace of my style.I'm a womanPhenomenally.Phenomenal woman,That's me.Now you understandJust why my head's not bowed.I don't shout or jump aboutOr have to talk real loud.When you see me passingIt ought to make you proud.I say,It's in the click of my heels,The bend of my hair,the palm of my hand,The need of my care,'Cause I'm a womanPhenomenally.Phenomenal woman,That's me.\t\t\t\t\t\t\n"
     ]
    }
   ],
   "source": [
    "\n",
    "lyrics1 = data[6].text\n",
    "#.split('<br/>',7)\n",
    "#lyrics1=data[6].text.split('<br/>', 0)\n",
    "#lyrics1.replace('\\n', '')\n",
    "\n",
    "print(lyrics1)"
   ]
  },
  {
   "cell_type": "code",
   "execution_count": 23,
   "metadata": {},
   "outputs": [],
   "source": [
    "with urllib.request.urlopen(\"http://famouspoetsandpoems.com/poets/maya_angelou/poems/492\") as url:\n",
    "\n",
    "# page = urllib.urlopen(\"http://famouspoetsandpoems.com/poets/maya_angelou/poems/492\").read()\n",
    "    page = url.read()\n",
    "# soup = BeautifulSoup(page, \"html.parser\")\n",
    "soup = bs(page, \"html.parser\")\n",
    "\n",
    "for tableItem in soup.find_all('div', style=\"padding-left:14px;padding-top:20px;font-family:Arial;font-size:13px;\"):\n",
    "    soup = tableItem.get_text(separator=' ', strip=True)\n",
    "\n",
    "# everything_in_main_tag_we_want = soup.find_all('div', style=\"padding-left:14px;padding-top:20px;font-family:Arial;font-size:13px;\")\n",
    "soup_text = str(soup)\n"
   ]
  },
  {
   "cell_type": "code",
   "execution_count": 24,
   "metadata": {},
   "outputs": [
    {
     "name": "stdout",
     "output_type": "stream",
     "text": [
      "Pretty women wonder where my secret lies. I'm not cute or built to suit a fashion model's size But when I start to tell them, They think I'm telling lies. I say, It's in the reach of my arms The span of my hips, The stride of my step, The curl of my lips. I'm a woman Phenomenally. Phenomenal woman, That's me. I walk into a room Just as cool as you please, And to a man, The fellows stand or Fall down on their knees. Then they swarm around me, A hive of honey bees. I say, It's the fire in my eyes, And the flash of my teeth, The swing in my waist, And the joy in my feet. I'm a woman Phenomenally. Phenomenal woman, That's me. Men themselves have wondered What they see in me. They try so much But they can't touch My inner mystery. When I try to show them They say they still can't see. I say, It's in the arch of my back, The sun of my smile, The ride of my breasts, The grace of my style. I'm a woman Phenomenally. Phenomenal woman, That's me. Now you understand Just why my head's not bowed. I don't shout or jump about Or have to talk real loud. When you see me passing It ought to make you proud. I say, It's in the click of my heels, The bend of my hair, the palm of my hand, The need of my care, 'Cause I'm a woman Phenomenally. Phenomenal woman, That's me.\n"
     ]
    }
   ],
   "source": [
    "print(soup_text) "
   ]
  },
  {
   "cell_type": "code",
   "execution_count": 26,
   "metadata": {},
   "outputs": [],
   "source": [
    "Poet5_Poem5 = open(\"Poet1_Poem1.txt\",\"w\")\n",
    "Poet5_Poem5.write(soup_text) \n",
    "# file1.writelines(L) \n",
    "Poet5_Poem5.close() #to change file access modes "
   ]
  },
  {
   "cell_type": "markdown",
   "metadata": {},
   "source": [
    "dataframe[\"poem\", \"Lyrics\"]\n",
    " 1."
   ]
  }
 ],
 "metadata": {
  "kernelspec": {
   "display_name": "Python 3",
   "language": "python",
   "name": "python3"
  },
  "language_info": {
   "codemirror_mode": {
    "name": "ipython",
    "version": 3
   },
   "file_extension": ".py",
   "mimetype": "text/x-python",
   "name": "python",
   "nbconvert_exporter": "python",
   "pygments_lexer": "ipython3",
   "version": "3.7.2"
  }
 },
 "nbformat": 4,
 "nbformat_minor": 2
}
